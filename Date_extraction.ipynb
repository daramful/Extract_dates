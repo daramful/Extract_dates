{
 "cells": [
  {
   "cell_type": "code",
   "execution_count": 5,
   "metadata": {},
   "outputs": [
    {
     "name": "stdout",
     "output_type": "stream",
     "text": [
      "['Aug. 1 , 2016', 'Aug. 1 , 2016', 'October  2011', 'February 1 , 2018', '2/1/18', '2/1/18', '2/1/18', 'Wednesday', 'Wednesday']\n"
     ]
    }
   ],
   "source": [
    "'''\n",
    "author: Ginny Lee\n",
    "NetID: hlee295\n",
    "'''\n",
    "'''\n",
    "examples/explanations for all patterns/regex\n",
    "- monthDateYear: full name or abbreviation of Month (e.g. Jan. or January) + possible 1 or 2 digits-long day + possible suffix (th, nd, ...) + 4-digits long year)\n",
    "- theXstOfMonth: [T/t]he + 1 or 2 digits-long day + possible suffix (th, nd, ...) + of + full name or abbreviation of Month\n",
    "- americanNotation: 2 digits long + possible 1-2 digits-long day + 2 or 4-digits-long year (e.g. 10/18 = 10/2018)\n",
    "- weekDayName: full name or abbreviation of weekday + possible the + possible 1 or 2 digits-long day + possible suffix (th, nd, ...)\n",
    "- holidayName: Any capitalized word that has \"Day\" (with d capitalized) after is considered holiday in my regex\n",
    "'''\n",
    "\n",
    "\n",
    "import re\n",
    "import numpy as np\n",
    "\n",
    "dates = []\n",
    "\n",
    "#explanations for each regex expression is given above\n",
    "monthDateYear = \"(?:(Jan(?:\\.|uary)|Feb(?:\\.|ruary)|Mar(?:\\.|ch)|Apr(?:\\.|il)|May|Jun(?:\\.|e)|Jul(?:\\.|y)|Aug(?:\\.|ust)|Sep(?:\\.|tember)|Oct(?:\\.|ober)|Nov(?:\\.|ember)|Dec(?:\\.|ember)))\\s+(?:(?:(?<!\\d)(\\d{1,2})(?!\\d)+(?:st|nd|rd|th)?)?)+((?:,\\s)?\\d{4}|\\d{4})\"\n",
    "theXstOfMonth = \"(?:([T|t]he\\s))+(?:(\\d{1,2}))+((?:th|rd|nd|st)\\s)+(?:(of\\s)?)+(?:(Jan(?:\\.|uary)|Feb(?:\\.|ruary)|Mar(?:\\.|ch)|Apr(?:\\.|il)|May|Jun(?:\\.|e)|Jul(?:\\.|y)|Aug(?:\\.|ust)|Sep(?:\\.|tember)|Oct(?:\\.|ober)|Nov(?:\\.|ember)|Dec(?:\\.|ember)))\"\n",
    "americanNotation = \"(\\d{1,2})\\/(?:(\\d{1,2})\\/)?(\\d{2}|\\d{4})\"\n",
    "weekDayName = \"(?:(Mon(?:\\.|day)|Tue(?:\\.|sday)|Wed(?:\\.|nesday)|Thur(?:\\.|sday)|Fri(?:\\.|day)|Sat(?:\\.|urday)|Sun(?:\\.|day))\\s)+(?:(?:\\s(the)\\s(\\d{1,2}(?:st|nd|rd|th)?))?)\"\n",
    "holidayName = \"([A-Z])\\w+\\sDay\"\n",
    "\n",
    "#opens txt file (article pasted) \n",
    "with open(\"sampleNews.txt\") as myfile:\n",
    "    data=\"\".join(line.rstrip() for line in myfile)\n",
    "\n",
    "#find all words that matches the regular expression patterns\n",
    "type1 = re.findall(monthDateYear, data)\n",
    "type2 = re.findall(theXstOfMonth, data)\n",
    "type3 = re.findall(americanNotation, data)\n",
    "type4 = re.findall(weekDayName, data)\n",
    "type5 = re.findall(holidayName, data)\n",
    "\n",
    "#append all words that are matched in regex expressions (each type is joined differently due to syntax differences in each form)\n",
    "for words in type1:\n",
    "    dates.append(\" \".join(words))\n",
    "for words in type2:\n",
    "    dates.append(\"\".join(words))\n",
    "for words in type3:\n",
    "    dates.append(\"/\".join(words))\n",
    "for words in type4:\n",
    "    dates.append(\"\".join(words))\n",
    "for words in type5:\n",
    "    dates.append(\"\".join(words))\n",
    "    \n",
    "#print appended list of all dates from the article (in this sample: sampleNews.txt)    \n",
    "print(dates)\n",
    "\n",
    "\n",
    "#to print, please press the following keys together: \"Shift\" + \"Enter/return\""
   ]
  },
  {
   "cell_type": "code",
   "execution_count": null,
   "metadata": {
    "collapsed": true
   },
   "outputs": [],
   "source": [
    "\n"
   ]
  }
 ],
 "metadata": {
  "kernelspec": {
   "display_name": "Python 3",
   "language": "python",
   "name": "python3"
  },
  "language_info": {
   "codemirror_mode": {
    "name": "ipython",
    "version": 3
   },
   "file_extension": ".py",
   "mimetype": "text/x-python",
   "name": "python",
   "nbconvert_exporter": "python",
   "pygments_lexer": "ipython3",
   "version": "3.6.3"
  }
 },
 "nbformat": 4,
 "nbformat_minor": 2
}
